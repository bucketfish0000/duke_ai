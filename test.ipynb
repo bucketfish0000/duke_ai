{
 "cells": [
  {
   "cell_type": "code",
   "execution_count": 1,
   "id": "2e0932c7",
   "metadata": {},
   "outputs": [],
   "source": [
    "import importlib\n",
    "importlib.import_module('game_utils')\n",
    "import game_utils\n",
    "from game_utils import game"
   ]
  },
  {
   "cell_type": "code",
   "execution_count": 2,
   "id": "4b6764d0",
   "metadata": {},
   "outputs": [
    {
     "data": {
      "text/plain": [
       "<module 'game_utils' from '/home/bfish/duke_ai/game_utils.py'>"
      ]
     },
     "execution_count": 2,
     "metadata": {},
     "output_type": "execute_result"
    }
   ],
   "source": [
    "importlib.reload(game_utils)"
   ]
  },
  {
   "cell_type": "code",
   "execution_count": 3,
   "id": "b2fbd635",
   "metadata": {
    "scrolled": true
   },
   "outputs": [],
   "source": [
    "the_game=game(\"units.json\",\"translate.json\")"
   ]
  },
  {
   "cell_type": "code",
   "execution_count": 4,
   "id": "5122cb5c",
   "metadata": {},
   "outputs": [
    {
     "name": "stdout",
     "output_type": "stream",
     "text": [
      "['D' 'F' 'F' 'G' 'L' 'K' 'P' 'R' 'P' 'B' 'S' 'P' 'E' 'F' 'T' 'W' 'C' 'A'\n",
      " 'N']\n"
     ]
    }
   ],
   "source": [
    "print(the_game.deck[0])"
   ]
  },
  {
   "cell_type": "code",
   "execution_count": 5,
   "id": "d7500735",
   "metadata": {},
   "outputs": [
    {
     "name": "stdout",
     "output_type": "stream",
     "text": [
      "[['_' '_' '_' '_' '_' '_']\n",
      " ['_' '_' '_' '_' '_' '_']\n",
      " ['_' '_' '_' '_' '_' '_']\n",
      " ['_' '_' '_' '_' '_' '_']\n",
      " ['_' '_' '_' '_' '_' '_']\n",
      " ['_' '_' '_' '_' '_' '_']]\n"
     ]
    }
   ],
   "source": [
    "print(the_game.board_arr)"
   ]
  },
  {
   "cell_type": "code",
   "execution_count": 6,
   "id": "e83d3fd5",
   "metadata": {},
   "outputs": [
    {
     "name": "stdout",
     "output_type": "stream",
     "text": [
      "['oF1', 'oF2', 'oF3', 'oF4', 'oF5', 'oF6']\n"
     ]
    }
   ],
   "source": [
    "the_game.valid_moves=the_game.get_valid_moves(the_game.player)\n",
    "print(the_game.valid_moves)\n"
   ]
  },
  {
   "cell_type": "code",
   "execution_count": 7,
   "id": "18e2aa94",
   "metadata": {},
   "outputs": [],
   "source": [
    "importlib.reload(game_utils)\n",
    "the_game.execute_moves(0,'oF2')"
   ]
  },
  {
   "cell_type": "code",
   "execution_count": 8,
   "id": "a4595c26",
   "metadata": {},
   "outputs": [
    {
     "name": "stdout",
     "output_type": "stream",
     "text": [
      "[['_' '_' '_' '_' '_' '_']\n",
      " ['_' '_' '_' '_' '_' '_']\n",
      " ['_' '_' '_' '_' '_' '_']\n",
      " ['_' '_' '_' '_' '_' '_']\n",
      " ['_' '_' '_' '_' '_' '_']\n",
      " ['_' 'D' '_' '_' '_' '_']]\n"
     ]
    }
   ],
   "source": [
    "print(the_game.board_arr)"
   ]
  },
  {
   "cell_type": "code",
   "execution_count": 9,
   "id": "7bd33f12",
   "metadata": {},
   "outputs": [
    {
     "name": "stdout",
     "output_type": "stream",
     "text": [
      "['oA1', 'oA2', 'oA3', 'oA4', 'oA5', 'oA6']\n"
     ]
    }
   ],
   "source": [
    "the_game.player=1\n",
    "the_game.valid_moves=the_game.get_valid_moves(the_game.player)\n",
    "print(the_game.valid_moves)"
   ]
  },
  {
   "cell_type": "code",
   "execution_count": 10,
   "id": "e5873a37",
   "metadata": {},
   "outputs": [],
   "source": [
    "the_game.execute_moves(1,'oA4')"
   ]
  },
  {
   "cell_type": "code",
   "execution_count": 11,
   "id": "efdfa1e9",
   "metadata": {},
   "outputs": [
    {
     "name": "stdout",
     "output_type": "stream",
     "text": [
      "[['_' '_' '_' 'd' '_' '_']\n",
      " ['_' '_' '_' '_' '_' '_']\n",
      " ['_' '_' '_' '_' '_' '_']\n",
      " ['_' '_' '_' '_' '_' '_']\n",
      " ['_' '_' '_' '_' '_' '_']\n",
      " ['_' 'D' '_' '_' '_' '_']]\n"
     ]
    }
   ],
   "source": [
    "print(the_game.board_arr)"
   ]
  },
  {
   "cell_type": "code",
   "execution_count": 12,
   "id": "2db3574f",
   "metadata": {},
   "outputs": [],
   "source": [
    "the_game.turns+=1"
   ]
  },
  {
   "cell_type": "code",
   "execution_count": 13,
   "id": "4ed560b6",
   "metadata": {
    "scrolled": false
   },
   "outputs": [
    {
     "name": "stdout",
     "output_type": "stream",
     "text": [
      "['oF1', 'oF3', 'oE2']\n"
     ]
    }
   ],
   "source": [
    "the_game.player=0\n",
    "the_game.valid_moves=the_game.get_valid_moves(the_game.player)\n",
    "print(the_game.valid_moves)"
   ]
  },
  {
   "cell_type": "code",
   "execution_count": 14,
   "id": "cd53eae7",
   "metadata": {},
   "outputs": [],
   "source": [
    "importlib.import_module('game_ctrl')\n",
    "import game_ctrl\n",
    "from game_ctrl import controller\n"
   ]
  },
  {
   "cell_type": "code",
   "execution_count": 120,
   "id": "ee3c7c54",
   "metadata": {},
   "outputs": [
    {
     "data": {
      "text/plain": [
       "<module 'game_ctrl' from '/home/bfish/duke_ai/game_ctrl.py'>"
      ]
     },
     "execution_count": 120,
     "metadata": {},
     "output_type": "execute_result"
    }
   ],
   "source": [
    "importlib.reload(game_utils)\n",
    "importlib.reload(game_ctrl)"
   ]
  },
  {
   "cell_type": "code",
   "execution_count": 121,
   "id": "525a6ee4",
   "metadata": {},
   "outputs": [],
   "source": [
    "gc=controller()\n"
   ]
  },
  {
   "cell_type": "code",
   "execution_count": 122,
   "id": "1b1c976d",
   "metadata": {},
   "outputs": [],
   "source": [
    "gc.proceed(\"new\")"
   ]
  },
  {
   "cell_type": "code",
   "execution_count": 123,
   "id": "008c3875",
   "metadata": {},
   "outputs": [],
   "source": [
    "gc.proceed(\"oF2\")"
   ]
  },
  {
   "cell_type": "code",
   "execution_count": 124,
   "id": "046430ad",
   "metadata": {},
   "outputs": [
    {
     "name": "stdout",
     "output_type": "stream",
     "text": [
      "[['_' '_' '_' 'd' '_' '_']\n",
      " ['_' '_' '_' '_' '_' '_']\n",
      " ['_' '_' '_' '_' '_' '_']\n",
      " ['_' '_' '_' '_' '_' '_']\n",
      " ['_' '_' '_' '_' '_' '_']\n",
      " ['_' 'D' '_' '_' '_' '_']]\n"
     ]
    }
   ],
   "source": [
    "gc.proceed(\"oA4\",display=True)"
   ]
  },
  {
   "cell_type": "code",
   "execution_count": 125,
   "id": "a69741a2",
   "metadata": {},
   "outputs": [
    {
     "name": "stdout",
     "output_type": "stream",
     "text": [
      "['oF1', 'oF3', 'oE2']\n",
      "['oA5', 'oA3', 'oB4']\n"
     ]
    }
   ],
   "source": [
    "print(gc.g.get_valid_moves(0))\n",
    "print(gc.g.get_valid_moves(1))"
   ]
  },
  {
   "cell_type": "code",
   "execution_count": 126,
   "id": "c3b69bbd",
   "metadata": {},
   "outputs": [
    {
     "name": "stdout",
     "output_type": "stream",
     "text": [
      "white_move\n"
     ]
    }
   ],
   "source": [
    "print(gc.state)"
   ]
  },
  {
   "cell_type": "code",
   "execution_count": 127,
   "id": "24470fb0",
   "metadata": {},
   "outputs": [
    {
     "name": "stdout",
     "output_type": "stream",
     "text": [
      "1\n"
     ]
    }
   ],
   "source": [
    "print(gc.g.turns)"
   ]
  },
  {
   "cell_type": "code",
   "execution_count": 128,
   "id": "ac8f1e05",
   "metadata": {},
   "outputs": [
    {
     "name": "stdout",
     "output_type": "stream",
     "text": [
      "{(5, 1): <game_utils.unit object at 0x7dc380323460>, (0, 3): <game_utils.unit object at 0x7dc380323190>}\n"
     ]
    }
   ],
   "source": [
    "print(gc.g.board_dict)"
   ]
  },
  {
   "cell_type": "code",
   "execution_count": 129,
   "id": "78704601",
   "metadata": {},
   "outputs": [
    {
     "data": {
      "text/plain": [
       "'F2'"
      ]
     },
     "execution_count": 129,
     "metadata": {},
     "output_type": "execute_result"
    }
   ],
   "source": [
    "gc.g.position(coord=None,pair=(5,1))"
   ]
  },
  {
   "cell_type": "code",
   "execution_count": 130,
   "id": "b03aeb0c",
   "metadata": {},
   "outputs": [
    {
     "name": "stdout",
     "output_type": "stream",
     "text": [
      "[{'s': [(0, -1), (0, 1)], 'o': [(0, -1), (0, 1), (1, 0), (-1, 0)]}, {'s': [(-1, 0), (1, 0)], 'o': [(0, -1), (0, 1), (1, 0), (-1, 0)]}]\n"
     ]
    }
   ],
   "source": [
    "print(gc.g.board_dict[(5,1)].moves)"
   ]
  },
  {
   "cell_type": "code",
   "execution_count": 131,
   "id": "d56330f6",
   "metadata": {},
   "outputs": [
    {
     "name": "stdout",
     "output_type": "stream",
     "text": [
      "[['_' '_' '_' 'd' '_' '_']\n",
      " ['_' '_' '_' '_' '_' '_']\n",
      " ['_' '_' '_' '_' '_' '_']\n",
      " ['_' '_' '_' '_' '_' '_']\n",
      " ['_' '_' '_' '_' '_' '_']\n",
      " ['F' 'D' '_' '_' '_' '_']]\n"
     ]
    }
   ],
   "source": [
    "gc.proceed('oF1',display=True)"
   ]
  },
  {
   "cell_type": "code",
   "execution_count": 132,
   "id": "52090104",
   "metadata": {},
   "outputs": [
    {
     "name": "stdout",
     "output_type": "stream",
     "text": [
      "[['_' '_' '_' 'd' 'f' '_']\n",
      " ['_' '_' '_' '_' '_' '_']\n",
      " ['_' '_' '_' '_' '_' '_']\n",
      " ['_' '_' '_' '_' '_' '_']\n",
      " ['_' '_' '_' '_' '_' '_']\n",
      " ['F' 'D' '_' '_' '_' '_']]\n"
     ]
    }
   ],
   "source": [
    "gc.proceed('oA5',display=True)"
   ]
  },
  {
   "cell_type": "code",
   "execution_count": 133,
   "id": "6b077f7d",
   "metadata": {},
   "outputs": [
    {
     "name": "stdout",
     "output_type": "stream",
     "text": [
      "['oF3', 'oE2']\n"
     ]
    }
   ],
   "source": [
    "print(gc.g.get_valid_moves(0))"
   ]
  },
  {
   "cell_type": "code",
   "execution_count": 134,
   "id": "582d4cfc",
   "metadata": {},
   "outputs": [
    {
     "name": "stdout",
     "output_type": "stream",
     "text": [
      "[['_' '_' '_' 'd' 'f' '_']\n",
      " ['_' '_' '_' '_' '_' '_']\n",
      " ['_' '_' '_' '_' '_' '_']\n",
      " ['_' '_' '_' '_' '_' '_']\n",
      " ['_' '_' '_' '_' '_' '_']\n",
      " ['F' 'D' 'F' '_' '_' '_']]\n"
     ]
    }
   ],
   "source": [
    "gc.proceed('oF3',display=True)"
   ]
  },
  {
   "cell_type": "code",
   "execution_count": 135,
   "id": "79e95edf",
   "metadata": {},
   "outputs": [
    {
     "name": "stdout",
     "output_type": "stream",
     "text": [
      "['oA3', 'oB4']\n"
     ]
    }
   ],
   "source": [
    "print(gc.g.get_valid_moves(1))"
   ]
  },
  {
   "cell_type": "code",
   "execution_count": 136,
   "id": "5a49c76d",
   "metadata": {},
   "outputs": [
    {
     "name": "stdout",
     "output_type": "stream",
     "text": [
      "[['_' '_' 'f' 'd' 'f' '_']\n",
      " ['_' '_' '_' '_' '_' '_']\n",
      " ['_' '_' '_' '_' '_' '_']\n",
      " ['_' '_' '_' '_' '_' '_']\n",
      " ['_' '_' '_' '_' '_' '_']\n",
      " ['F' 'D' 'F' '_' '_' '_']]\n"
     ]
    }
   ],
   "source": [
    "gc.proceed('oA3',display=True)"
   ]
  },
  {
   "cell_type": "code",
   "execution_count": 137,
   "id": "8ab9cd4a",
   "metadata": {},
   "outputs": [
    {
     "name": "stdout",
     "output_type": "stream",
     "text": [
      "['oE2', 'FF1mE1', 'FF3mE3', 'FF3mF4']\n"
     ]
    }
   ],
   "source": [
    "print(gc.g.get_valid_moves(0))"
   ]
  },
  {
   "cell_type": "code",
   "execution_count": 138,
   "id": "fad44cce",
   "metadata": {},
   "outputs": [
    {
     "name": "stdout",
     "output_type": "stream",
     "text": [
      "[['_' '_' 'f' 'd' 'f' '_']\n",
      " ['_' '_' '_' '_' '_' '_']\n",
      " ['_' '_' '_' '_' '_' '_']\n",
      " ['_' '_' '_' '_' '_' '_']\n",
      " ['F' '_' '_' '_' '_' '_']\n",
      " ['_' 'D' 'F' '_' '_' '_']]\n"
     ]
    }
   ],
   "source": [
    "gc.proceed(\"FF1mE1\",display=True)"
   ]
  },
  {
   "cell_type": "code",
   "execution_count": 140,
   "id": "9aacb985",
   "metadata": {},
   "outputs": [
    {
     "name": "stdout",
     "output_type": "stream",
     "text": [
      "['oB4', 'fA5mB5', 'fA5mA6', 'fA3mB3']\n"
     ]
    }
   ],
   "source": [
    "print(gc.g.get_valid_moves(1))"
   ]
  },
  {
   "cell_type": "code",
   "execution_count": 141,
   "id": "7e393f09",
   "metadata": {},
   "outputs": [
    {
     "name": "stdout",
     "output_type": "stream",
     "text": [
      "[['_' '_' 'f' 'd' '_' '_']\n",
      " ['_' '_' '_' '_' 'f' '_']\n",
      " ['_' '_' '_' '_' '_' '_']\n",
      " ['_' '_' '_' '_' '_' '_']\n",
      " ['F' '_' '_' '_' '_' '_']\n",
      " ['_' 'D' 'F' '_' '_' '_']]\n"
     ]
    }
   ],
   "source": [
    "gc.proceed(\"fA5mB5\",display=True)"
   ]
  },
  {
   "cell_type": "code",
   "execution_count": 142,
   "id": "e76c0e98",
   "metadata": {},
   "outputs": [
    {
     "name": "stdout",
     "output_type": "stream",
     "text": [
      "['oF1', 'oE2', 'FF3mE3', 'FF3mF4', 'FE1mC1']\n"
     ]
    }
   ],
   "source": [
    "print(gc.g.get_valid_moves(0))"
   ]
  },
  {
   "cell_type": "code",
   "execution_count": 158,
   "id": "b5a0faa9",
   "metadata": {},
   "outputs": [
    {
     "name": "stdout",
     "output_type": "stream",
     "text": [
      "[['_' '_' '_' '_' '_' '_']\n",
      " ['_' '_' '_' '_' '_' '_']\n",
      " ['_' '_' '_' '_' '_' '_']\n",
      " ['_' '_' '_' '_' '_' '_']\n",
      " ['_' '_' '_' '_' '_' '_']\n",
      " ['_' 'D' '_' '_' '_' '_']]\n",
      "========\n",
      "[['_' '_' '_' 'd' '_' '_']\n",
      " ['_' '_' '_' '_' '_' '_']\n",
      " ['_' '_' '_' '_' '_' '_']\n",
      " ['_' '_' '_' '_' '_' '_']\n",
      " ['_' '_' '_' '_' '_' '_']\n",
      " ['_' 'D' '_' '_' '_' '_']]\n",
      "========\n",
      "[['_' '_' '_' 'd' '_' '_']\n",
      " ['_' '_' '_' '_' '_' '_']\n",
      " ['_' '_' '_' '_' '_' '_']\n",
      " ['_' '_' '_' '_' '_' '_']\n",
      " ['_' '_' '_' '_' '_' '_']\n",
      " ['F' 'D' '_' '_' '_' '_']]\n",
      "========\n",
      "[['_' '_' '_' 'd' 'f' '_']\n",
      " ['_' '_' '_' '_' '_' '_']\n",
      " ['_' '_' '_' '_' '_' '_']\n",
      " ['_' '_' '_' '_' '_' '_']\n",
      " ['_' '_' '_' '_' '_' '_']\n",
      " ['F' 'D' '_' '_' '_' '_']]\n",
      "========\n",
      "[['_' '_' '_' 'd' 'f' '_']\n",
      " ['_' '_' '_' '_' '_' '_']\n",
      " ['_' '_' '_' '_' '_' '_']\n",
      " ['_' '_' '_' '_' '_' '_']\n",
      " ['_' '_' '_' '_' '_' '_']\n",
      " ['F' 'D' 'F' '_' '_' '_']]\n",
      "========\n",
      "[['_' '_' 'f' 'd' 'f' '_']\n",
      " ['_' '_' '_' '_' '_' '_']\n",
      " ['_' '_' '_' '_' '_' '_']\n",
      " ['_' '_' '_' '_' '_' '_']\n",
      " ['_' '_' '_' '_' '_' '_']\n",
      " ['F' 'D' 'F' '_' '_' '_']]\n",
      "========\n",
      "(5, 0)\n",
      "(5, 2)\n",
      "[['_' '_' 'f' 'd' 'f' '_']\n",
      " ['_' '_' '_' '_' '_' '_']\n",
      " ['_' '_' '_' '_' '_' '_']\n",
      " ['_' '_' '_' '_' '_' '_']\n",
      " ['F' '_' '_' '_' '_' '_']\n",
      " ['_' 'D' 'F' '_' '_' '_']]\n",
      "========\n",
      "(0, 4)\n",
      "(0, 2)\n",
      "[['_' '_' 'f' 'd' '_' '_']\n",
      " ['_' '_' '_' '_' 'f' '_']\n",
      " ['_' '_' '_' '_' '_' '_']\n",
      " ['_' '_' '_' '_' '_' '_']\n",
      " ['F' '_' '_' '_' '_' '_']\n",
      " ['_' 'D' 'F' '_' '_' '_']]\n",
      "========\n"
     ]
    }
   ],
   "source": [
    "importlib.reload(game_utils)\n",
    "importlib.reload(game_ctrl)\n",
    "\n",
    "gc=controller()\n",
    "gc.proceed(\"new\")\n",
    "gc.proceed(\"oF2\",display=True)\n",
    "print(\"========\")\n",
    "gc.proceed(\"oA4\",display=True)\n",
    "print(\"========\")\n",
    "gc.proceed('oF1',display=True)\n",
    "print(\"========\")\n",
    "gc.proceed('oA5',display=True)\n",
    "print(\"========\")\n",
    "gc.proceed('oF3',display=True)\n",
    "print(\"========\")\n",
    "gc.proceed('oA3',display=True)\n",
    "print(\"========\")\n",
    "gc.proceed(\"FF1mE1\",display=True)\n",
    "print(\"========\")\n",
    "gc.proceed(\"fA5mB5\",display=True)\n",
    "print(\"========\")"
   ]
  },
  {
   "cell_type": "code",
   "execution_count": 159,
   "id": "3d841a3b",
   "metadata": {},
   "outputs": [
    {
     "name": "stdout",
     "output_type": "stream",
     "text": [
      "(5, 0)\n",
      "(5, -1)\n",
      "(5, 2)\n",
      "['DF2mF1', 'DF2mF0', 'oF1', 'oE2', 'FF3mE3', 'FF3mF4', 'FE1mC1']\n"
     ]
    }
   ],
   "source": [
    "print(gc.g.get_valid_moves(0))"
   ]
  },
  {
   "cell_type": "code",
   "execution_count": null,
   "id": "6c0a3f9c",
   "metadata": {},
   "outputs": [],
   "source": []
  }
 ],
 "metadata": {
  "kernelspec": {
   "display_name": "Python 3 (ipykernel)",
   "language": "python",
   "name": "python3"
  },
  "language_info": {
   "codemirror_mode": {
    "name": "ipython",
    "version": 3
   },
   "file_extension": ".py",
   "mimetype": "text/x-python",
   "name": "python",
   "nbconvert_exporter": "python",
   "pygments_lexer": "ipython3",
   "version": "3.9.13"
  }
 },
 "nbformat": 4,
 "nbformat_minor": 5
}
