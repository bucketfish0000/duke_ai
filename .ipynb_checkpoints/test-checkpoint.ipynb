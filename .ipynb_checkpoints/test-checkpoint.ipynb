{
 "cells": [
  {
   "cell_type": "code",
   "execution_count": 1,
   "id": "2e0932c7",
   "metadata": {},
   "outputs": [],
   "source": [
    "import importlib\n",
    "importlib.import_module('game_utils')\n",
    "import game_utils\n",
    "from game_utils import game"
   ]
  },
  {
   "cell_type": "code",
   "execution_count": 2,
   "id": "db7dfbd6",
   "metadata": {},
   "outputs": [
    {
     "data": {
      "text/plain": [
       "<module 'game_utils' from '/home/bfish/duke_ai/game_utils.py'>"
      ]
     },
     "execution_count": 2,
     "metadata": {},
     "output_type": "execute_result"
    }
   ],
   "source": [
    "importlib.reload(game_utils)"
   ]
  },
  {
   "cell_type": "code",
   "execution_count": 3,
   "id": "690a9712",
   "metadata": {
    "scrolled": true
   },
   "outputs": [],
   "source": [
    "the_game=game(\"units.json\",\"translate.json\")"
   ]
  },
  {
   "cell_type": "code",
   "execution_count": 4,
   "id": "59e30a89",
   "metadata": {},
   "outputs": [
    {
     "name": "stdout",
     "output_type": "stream",
     "text": [
      "['D' 'F' 'F' 'K' 'E' 'R' 'A' 'T' 'N' 'G' 'S' 'C' 'W' 'P' 'B' 'F' 'P' 'P'\n",
      " 'L']\n"
     ]
    }
   ],
   "source": [
    "print(the_game.deck[0])"
   ]
  },
  {
   "cell_type": "code",
   "execution_count": 5,
   "id": "2fe31d54",
   "metadata": {},
   "outputs": [
    {
     "name": "stdout",
     "output_type": "stream",
     "text": [
      "[['_' '_' '_' '_' '_' '_']\n",
      " ['_' '_' '_' '_' '_' '_']\n",
      " ['_' '_' '_' '_' '_' '_']\n",
      " ['_' '_' '_' '_' '_' '_']\n",
      " ['_' '_' '_' '_' '_' '_']\n",
      " ['_' '_' '_' '_' '_' '_']]\n"
     ]
    }
   ],
   "source": [
    "print(the_game.board_arr)"
   ]
  },
  {
   "cell_type": "code",
   "execution_count": 6,
   "id": "7b557a82",
   "metadata": {},
   "outputs": [
    {
     "name": "stdout",
     "output_type": "stream",
     "text": [
      "['oF1', 'oF2', 'oF3', 'oF4', 'oF5', 'oF6']\n"
     ]
    }
   ],
   "source": [
    "the_game.valid_moves=the_game.get_valid_moves(the_game.player)\n",
    "print(the_game.valid_moves)\n"
   ]
  },
  {
   "cell_type": "code",
   "execution_count": 7,
   "id": "ea8572b9",
   "metadata": {},
   "outputs": [],
   "source": [
    "importlib.reload(game_utils)\n",
    "the_game.execute_moves(0,'oF2')"
   ]
  },
  {
   "cell_type": "code",
   "execution_count": 8,
   "id": "987ee4d0",
   "metadata": {},
   "outputs": [
    {
     "name": "stdout",
     "output_type": "stream",
     "text": [
      "[['_' '_' '_' '_' '_' '_']\n",
      " ['_' '_' '_' '_' '_' '_']\n",
      " ['_' '_' '_' '_' '_' '_']\n",
      " ['_' '_' '_' '_' '_' '_']\n",
      " ['_' '_' '_' '_' '_' '_']\n",
      " ['_' 'D' '_' '_' '_' '_']]\n"
     ]
    }
   ],
   "source": [
    "print(the_game.board_arr)"
   ]
  },
  {
   "cell_type": "code",
   "execution_count": 9,
   "id": "229bd7eb",
   "metadata": {},
   "outputs": [
    {
     "name": "stdout",
     "output_type": "stream",
     "text": [
      "['oA1', 'oA2', 'oA3', 'oA4', 'oA5', 'oA6']\n"
     ]
    }
   ],
   "source": [
    "the_game.player=1\n",
    "the_game.valid_moves=the_game.get_valid_moves(the_game.player)\n",
    "print(the_game.valid_moves)"
   ]
  },
  {
   "cell_type": "code",
   "execution_count": 10,
   "id": "574582c8",
   "metadata": {},
   "outputs": [],
   "source": [
    "the_game.execute_moves(1,'oA4')"
   ]
  },
  {
   "cell_type": "code",
   "execution_count": 11,
   "id": "c2954b10",
   "metadata": {},
   "outputs": [
    {
     "name": "stdout",
     "output_type": "stream",
     "text": [
      "[['_' '_' '_' 'd' '_' '_']\n",
      " ['_' '_' '_' '_' '_' '_']\n",
      " ['_' '_' '_' '_' '_' '_']\n",
      " ['_' '_' '_' '_' '_' '_']\n",
      " ['_' '_' '_' '_' '_' '_']\n",
      " ['_' 'D' '_' '_' '_' '_']]\n"
     ]
    }
   ],
   "source": [
    "print(the_game.board_arr)"
   ]
  },
  {
   "cell_type": "code",
   "execution_count": 12,
   "id": "15c8e8db",
   "metadata": {},
   "outputs": [],
   "source": [
    "the_game.turns+=1"
   ]
  },
  {
   "cell_type": "code",
   "execution_count": 13,
   "id": "75f1d6a2",
   "metadata": {
    "scrolled": false
   },
   "outputs": [
    {
     "ename": "ValueError",
     "evalue": "The truth value of an array with more than one element is ambiguous. Use a.any() or a.all()",
     "output_type": "error",
     "traceback": [
      "\u001b[0;31m---------------------------------------------------------------------------\u001b[0m",
      "\u001b[0;31mValueError\u001b[0m                                Traceback (most recent call last)",
      "\u001b[0;32m/tmp/ipykernel_347379/453938551.py\u001b[0m in \u001b[0;36m<module>\u001b[0;34m\u001b[0m\n\u001b[1;32m      1\u001b[0m \u001b[0mthe_game\u001b[0m\u001b[0;34m.\u001b[0m\u001b[0mplayer\u001b[0m\u001b[0;34m=\u001b[0m\u001b[0;36m0\u001b[0m\u001b[0;34m\u001b[0m\u001b[0;34m\u001b[0m\u001b[0m\n\u001b[0;32m----> 2\u001b[0;31m \u001b[0mthe_game\u001b[0m\u001b[0;34m.\u001b[0m\u001b[0mvalid_moves\u001b[0m\u001b[0;34m=\u001b[0m\u001b[0mthe_game\u001b[0m\u001b[0;34m.\u001b[0m\u001b[0mget_valid_moves\u001b[0m\u001b[0;34m(\u001b[0m\u001b[0mthe_game\u001b[0m\u001b[0;34m.\u001b[0m\u001b[0mplayer\u001b[0m\u001b[0;34m)\u001b[0m\u001b[0;34m\u001b[0m\u001b[0;34m\u001b[0m\u001b[0m\n\u001b[0m\u001b[1;32m      3\u001b[0m \u001b[0mprint\u001b[0m\u001b[0;34m(\u001b[0m\u001b[0mthe_game\u001b[0m\u001b[0;34m.\u001b[0m\u001b[0mvalid_moves\u001b[0m\u001b[0;34m)\u001b[0m\u001b[0;34m\u001b[0m\u001b[0;34m\u001b[0m\u001b[0m\n",
      "\u001b[0;32m~/duke_ai/game_utils.py\u001b[0m in \u001b[0;36mget_valid_moves\u001b[0;34m(self, player)\u001b[0m\n\u001b[1;32m    139\u001b[0m                                         \u001b[0mu_op\u001b[0m\u001b[0;34m=\u001b[0m\u001b[0;34m'o'\u001b[0m\u001b[0;34m\u001b[0m\u001b[0;34m\u001b[0m\u001b[0m\n\u001b[1;32m    140\u001b[0m                                         \u001b[0;32mfor\u001b[0m \u001b[0mdest\u001b[0m \u001b[0;32min\u001b[0m \u001b[0mu\u001b[0m\u001b[0;34m.\u001b[0m\u001b[0mmoves\u001b[0m\u001b[0;34m[\u001b[0m\u001b[0mu\u001b[0m\u001b[0;34m.\u001b[0m\u001b[0mside\u001b[0m\u001b[0;34m]\u001b[0m\u001b[0;34m[\u001b[0m\u001b[0mmove_type\u001b[0m\u001b[0;34m]\u001b[0m\u001b[0;34m:\u001b[0m\u001b[0;34m\u001b[0m\u001b[0;34m\u001b[0m\u001b[0m\n\u001b[0;32m--> 141\u001b[0;31m                                                 \u001b[0;32mif\u001b[0m \u001b[0;34m(\u001b[0m\u001b[0mself\u001b[0m\u001b[0;34m.\u001b[0m\u001b[0mis_inbound\u001b[0m\u001b[0;34m(\u001b[0m\u001b[0mdest\u001b[0m\u001b[0;34m)\u001b[0m\u001b[0;34m)\u001b[0m \u001b[0;32mand\u001b[0m \u001b[0mself\u001b[0m\u001b[0;34m.\u001b[0m\u001b[0mis_occupied\u001b[0m\u001b[0;34m(\u001b[0m\u001b[0mdest\u001b[0m\u001b[0;34m)\u001b[0m\u001b[0;34m==\u001b[0m\u001b[0;32mFalse\u001b[0m\u001b[0;34m:\u001b[0m\u001b[0;34m\u001b[0m\u001b[0;34m\u001b[0m\u001b[0m\n\u001b[0m\u001b[1;32m    142\u001b[0m                                                         \u001b[0mu_tar\u001b[0m\u001b[0;34m=\u001b[0m\u001b[0mself\u001b[0m\u001b[0;34m.\u001b[0m\u001b[0mposition\u001b[0m\u001b[0;34m(\u001b[0m\u001b[0mcoord\u001b[0m\u001b[0;34m=\u001b[0m\u001b[0;32mNone\u001b[0m\u001b[0;34m,\u001b[0m\u001b[0mpair\u001b[0m\u001b[0;34m=\u001b[0m\u001b[0mdest\u001b[0m\u001b[0;34m)\u001b[0m\u001b[0;34m\u001b[0m\u001b[0;34m\u001b[0m\u001b[0m\n\u001b[1;32m    143\u001b[0m                                                         \u001b[0mu_move\u001b[0m\u001b[0;34m=\u001b[0m\u001b[0mu_op\u001b[0m\u001b[0;34m+\u001b[0m\u001b[0mu_tar\u001b[0m\u001b[0;34m\u001b[0m\u001b[0;34m\u001b[0m\u001b[0m\n",
      "\u001b[0;31mValueError\u001b[0m: The truth value of an array with more than one element is ambiguous. Use a.any() or a.all()"
     ]
    }
   ],
   "source": [
    "the_game.player=0\n",
    "the_game.valid_moves=the_game.get_valid_moves(the_game.player)\n",
    "print(the_game.valid_moves)"
   ]
  },
  {
   "cell_type": "code",
   "execution_count": null,
   "id": "4077c106",
   "metadata": {},
   "outputs": [],
   "source": [
    "if (the_game.is_inbound([2,5])): print(\"yes\")"
   ]
  },
  {
   "cell_type": "code",
   "execution_count": 17,
   "id": "1c52b2c1",
   "metadata": {},
   "outputs": [
    {
     "name": "stdout",
     "output_type": "stream",
     "text": [
      "False\n"
     ]
    }
   ],
   "source": [
    "print(the_game.is_occupied((2,5)))"
   ]
  },
  {
   "cell_type": "code",
   "execution_count": null,
   "id": "a67a9157",
   "metadata": {},
   "outputs": [],
   "source": []
  }
 ],
 "metadata": {
  "kernelspec": {
   "display_name": "Python 3 (ipykernel)",
   "language": "python",
   "name": "python3"
  },
  "language_info": {
   "codemirror_mode": {
    "name": "ipython",
    "version": 3
   },
   "file_extension": ".py",
   "mimetype": "text/x-python",
   "name": "python",
   "nbconvert_exporter": "python",
   "pygments_lexer": "ipython3",
   "version": "3.9.13"
  }
 },
 "nbformat": 4,
 "nbformat_minor": 5
}
